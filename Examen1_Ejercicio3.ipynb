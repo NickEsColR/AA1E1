{
  "cells": [
    {
      "cell_type": "markdown",
      "metadata": {
        "colab_type": "text",
        "id": "view-in-github"
      },
      "source": [
        "<a href=\"https://colab.research.google.com/github/cam2149/MachinelearningI/blob/main/Examen1_Ejercicio3.ipynb\" target=\"_parent\"><img src=\"https://colab.research.google.com/assets/colab-badge.svg\" alt=\"Open In Colab\"/></a>"
      ]
    },
    {
      "cell_type": "markdown",
      "metadata": {
        "id": "CccSzoYvEeN6"
      },
      "source": [
        "# Maestría en Inteligencia Artificial Aplicada\n",
        "\n",
        "## Aprendizaje Automatico 1\n",
        "\n",
        "## Examen 1\n",
        "\n",
        "### Integrantes\n",
        "\n",
        "- Yesid Castelblanco\n",
        "- Andres Felipe Borrero\n",
        "- Carlos Alberto Martinez Ramirez\n",
        "- Nicolas Colmenares\n",
        "\n",
        "### **Profesores**\n",
        "\n",
        "- Santiago Ortiz\n",
        "- Henry Velasco\n",
        "\n",
        "Fecha: _ de 2024"
      ]
    },
    {
      "cell_type": "markdown",
      "metadata": {
        "id": "ZY-peTLYFfgJ"
      },
      "source": [
        "# Ejercicio 1\n",
        "\n",
        "## Datos\n",
        "\n",
        "Considere el conjunto de datos “data1” del fichero data_exam1.xls\n",
        "\n",
        "### Puntos\n",
        "\n",
        "1. Realice un análisis exploratorio de datos ¿Considera que podría generar un modelo de regresión lineal con variable categórica (sin interacción) para la variable Y? Justifique. Si la\n",
        "respuesta a la pregunta es SI, genere un modelo de regresión sin interacción e interpretelo.\n",
        "\n",
        "2. Realice un gráfico de dispersión para Y vs X, considerando para cada observación su respectivo valor en la variable Ind. ¿Hay evidencia muestral que sugiera un cambio en la tasa media de cambio de Y condicionado a incrementos unitarios de X? ¿Considera que un modelo con\n",
        "interacciones sería más adecuado? Si la respuesta a estas preguntas es afirmativa, genere el\n",
        "respectivo modelo, interprete detalladamente los resultados y valide los supuestos del modelo propuesto"
      ]
    },
    {
      "cell_type": "code",
      "execution_count": 2,
      "metadata": {
        "id": "AUqk5f4Temy7"
      },
      "outputs": [],
      "source": [
        "import matplotlib.pyplot as plt\n",
        "import pandas as pd\n",
        "import numpy as np\n",
        "import matplotlib.pyplot as plt\n",
        "from sklearn.preprocessing import StandardScaler\n",
        "import seaborn as sns"
      ]
    },
    {
      "cell_type": "code",
      "execution_count": 3,
      "metadata": {
        "id": "JknxTJUEgBN4"
      },
      "outputs": [],
      "source": [
        "url = 'https://github.com/cam2149/MachinelearningI/raw/85795f6469ebde1f693b7cb6c893c10135408974/data_exam1.xlsx'\n",
        "\n",
        "df=pd.read_excel(url, sheet_name='data1')"
      ]
    },
    {
      "cell_type": "code",
      "execution_count": null,
      "metadata": {
        "colab": {
          "base_uri": "https://localhost:8080/",
          "height": 424
        },
        "id": "oFFttqBig4GF",
        "outputId": "79c91a19-2fb9-46c9-b8cc-2bf4a2e3f7b3"
      },
      "outputs": [],
      "source": [
        "df"
      ]
    },
    {
      "cell_type": "code",
      "execution_count": null,
      "metadata": {
        "colab": {
          "base_uri": "https://localhost:8080/"
        },
        "id": "hSJWm_BXkZbt",
        "outputId": "ae47d00a-127b-487a-aca8-f9203a77264c"
      },
      "outputs": [],
      "source": [
        "df.info()"
      ]
    },
    {
      "cell_type": "code",
      "execution_count": null,
      "metadata": {
        "colab": {
          "base_uri": "https://localhost:8080/",
          "height": 300
        },
        "id": "uBNXus9vkcrO",
        "outputId": "7ccfeb41-c6bf-460b-85ac-c06233ccfc93"
      },
      "outputs": [],
      "source": [
        "df.describe()"
      ]
    },
    {
      "cell_type": "code",
      "execution_count": null,
      "metadata": {
        "colab": {
          "base_uri": "https://localhost:8080/",
          "height": 564
        },
        "id": "xhOZYUs-iPYw",
        "outputId": "384378c0-0ef6-4652-97e4-266419e72e9c"
      },
      "outputs": [],
      "source": [
        "# @title Correlation of X and Y\n",
        "\n",
        "\n",
        "plt.figure(figsize=(8, 6))\n",
        "plt.scatter(df['X'], df['Y'], c=df['Ind'], cmap='viridis')\n",
        "plt.title('Correlation of X and Y')\n",
        "plt.xlabel('X')\n",
        "_ = plt.ylabel('Y')"
      ]
    },
    {
      "cell_type": "code",
      "execution_count": null,
      "metadata": {
        "colab": {
          "base_uri": "https://localhost:8080/",
          "height": 449
        },
        "id": "p5Ibsy-Uhsiv",
        "outputId": "9bac5c49-42aa-4410-c7f9-ec9249664fac"
      },
      "outputs": [],
      "source": [
        "# @title Y vs X\n",
        "\n",
        "df.plot(kind='scatter', x='Y', y='X', s=32, alpha=.8)\n",
        "plt.gca().spines[['top', 'right',]].set_visible(False)"
      ]
    },
    {
      "cell_type": "code",
      "execution_count": null,
      "metadata": {
        "colab": {
          "base_uri": "https://localhost:8080/",
          "height": 452
        },
        "id": "MSOgypMrhbcd",
        "outputId": "3deb2631-072f-42b8-e16e-9100ef9ffa47"
      },
      "outputs": [],
      "source": [
        "# @title X\n",
        "\n",
        "df['X'].plot(kind='hist', bins=20, title='X')\n",
        "plt.gca().spines[['top', 'right',]].set_visible(False)"
      ]
    },
    {
      "cell_type": "code",
      "execution_count": null,
      "metadata": {
        "colab": {
          "base_uri": "https://localhost:8080/",
          "height": 452
        },
        "id": "GSUov5dhhVD4",
        "outputId": "9b39314d-0e38-45e8-fead-ed66be212d62"
      },
      "outputs": [],
      "source": [
        "# @title Y\n",
        "\n",
        "df['Y'].plot(kind='hist', bins=20, title='Y')\n",
        "plt.gca().spines[['top', 'right',]].set_visible(False)"
      ]
    },
    {
      "cell_type": "code",
      "execution_count": null,
      "metadata": {
        "colab": {
          "base_uri": "https://localhost:8080/",
          "height": 452
        },
        "id": "QoH4jlPzoDfd",
        "outputId": "ccd10c1f-c40c-4516-baf3-78f2b9642a16"
      },
      "outputs": [],
      "source": [
        "plt.boxplot(df['Y'])\n",
        "plt.title('Boxplot of Y')\n",
        "plt.ylabel('Y')\n",
        "plt.show()\n"
      ]
    },
    {
      "cell_type": "code",
      "execution_count": null,
      "metadata": {
        "colab": {
          "base_uri": "https://localhost:8080/",
          "height": 564
        },
        "id": "cnxT4RT5iknv",
        "outputId": "d280775e-39a5-4850-c287-94582ec1d168"
      },
      "outputs": [],
      "source": [
        "# @title Histograms of X and Y\n",
        "\n",
        "import matplotlib.pyplot as plt\n",
        "\n",
        "plt.figure(figsize=(8, 6))\n",
        "plt.hist(df[df['Ind'] == 0]['X'], bins=20, alpha=0.5, label='X, Ind = 0', color='blue')\n",
        "plt.hist(df[df['Ind'] == 1]['X'], bins=20, alpha=0.5, label='X, Ind = 1', color='green')\n",
        "plt.hist(df[df['Ind'] == 0]['Y'], bins=20, alpha=0.5, label='Y, Ind = 0', color='red')\n",
        "plt.hist(df[df['Ind'] == 1]['Y'], bins=20, alpha=0.5, label='Y, Ind = 1', color='purple')\n",
        "plt.xlabel('Value')\n",
        "plt.ylabel('Frequency')\n",
        "plt.title('Histograms of X and Y')\n",
        "_ = plt.legend()"
      ]
    },
    {
      "cell_type": "markdown",
      "metadata": {
        "id": "jwiuMSatHi5a"
      },
      "source": [
        "# Ejercicio 2\n",
        "\n",
        "## Datos\n",
        "\n",
        "**data2** del fichero **data_exam.xlsx**\n",
        "\n",
        "## Puntos\n",
        "\n",
        "- De acuerdo al analisis del item anterior proponer una transformación para alguna variable y justificar\n",
        "- Proponer un modelo lineal, iterpretar y validar supuestos"
      ]
    },
    {
      "cell_type": "markdown",
      "metadata": {
        "id": "cBw09Wf-IH9_"
      },
      "source": [
        "# Ejercicio 3\n",
        "\n",
        "## Datos\n",
        "\n",
        "**Wine Quality** del fichero **datos.xlsx**\n",
        "\n",
        "**Y**= Densidad\n",
        "\n",
        "**Eliminar:**\n",
        "\n",
        "- PH\n",
        "- Sulfatos\n",
        "- Cloruros\n",
        "- Acidez Volátil\n",
        "- Acidez Fija\n",
        "- Calidad de Vino\n",
        "\n",
        "## Puntos\n",
        "\n",
        "1. Estandarizar variables y calcular matrices de correlación de **Pearson**, **Kendall** y **Spearman**. ¿Qué diferencia hay entre las dependencias obtenidas?\n",
        "2. Realizar particios de datos 80-20.\n",
        "  - Construir 3 modelos RLM.\n",
        "  - Comparar e interpretar los valores de los coeficientes de regresión en cada método.\n",
        "3. ¿Cuál de los modelos propuestos predice mejor?\n",
        "  - Realizar una predicción con los datos de prueba.\n",
        "  - Calcular el RMSE.\n",
        "4. Validar supuesto teóricos de cada modelo.\n",
        "5. Realizar un diagrama de dispersión del conjunto de datos.\n",
        "  - ¿Se evidencia comportamientos lineales?\n",
        "  - Si no son lineales realizar transformaciones de varaibles y justificar.\n",
        "  - Generar un modelo RLM e interpretar."
      ]
    },
    {
      "cell_type": "code",
      "execution_count": 13,
      "metadata": {},
      "outputs": [],
      "source": [
        "# Get Excel file from GitHub\n",
        "url = 'https://github.com/cam2149/MachinelearningI/blob/main/datos.xls?raw=true'\n",
        "# Read the sheet 'Wine Quality' into a DataFrame df ignoring the first 2 rows\n",
        "df = pd.read_excel(url, sheet_name='Wine Quality', skiprows=2)"
      ]
    },
    {
      "cell_type": "code",
      "execution_count": null,
      "metadata": {},
      "outputs": [],
      "source": [
        "# Visualize the first 5 rows of the DataFrame\n",
        "df.head()"
      ]
    },
    {
      "cell_type": "code",
      "execution_count": null,
      "metadata": {},
      "outputs": [],
      "source": [
        "# Remove columns pH, Sulfatos, Cloruros, Acidez Volátil, Acidez Fija, and Calidad del Vino\n",
        "df.drop(columns=['pH', 'Sulfatos', 'Cloruros', 'Acidez Volátil', 'Acidez Fija', 'Calidad del Vino'], inplace=True)\n",
        "\n",
        "# Visualize the first 5 rows of the DataFrame\n",
        "df.head()"
      ]
    },
    {
      "cell_type": "code",
      "execution_count": null,
      "metadata": {},
      "outputs": [],
      "source": [
        "# Define Densidad as the target variable (Y) and the rest of the columns as the features (X)\n",
        "x = df.drop(columns='Densidad')\n",
        "y = df['Densidad']\n",
        "x.describe()"
      ]
    },
    {
      "cell_type": "code",
      "execution_count": null,
      "metadata": {},
      "outputs": [],
      "source": [
        "# Plot the scatter charts of the features against the target variable\n",
        "fig, axs = plt.subplots(2, 3, figsize=(20, 10))\n",
        "for i, feature in enumerate(x.columns):\n",
        "    axs[i // 3, i % 3].scatter(x[feature], y, c='blue', alpha=0.5)\n",
        "    axs[i // 3, i % 3].set_xlabel(feature)\n",
        "    axs[i // 3, i % 3].set_ylabel('Densidad')\n",
        "plt.tight_layout()\n",
        "plt.show()\n",
        "\n"
      ]
    },
    {
      "cell_type": "code",
      "execution_count": null,
      "metadata": {},
      "outputs": [],
      "source": [
        "# Standardize the features keeping the same column names\n",
        "scaler = StandardScaler()\n",
        "x = pd.DataFrame(scaler.fit_transform(x), columns=x.columns)\n",
        "x.describe()\n"
      ]
    },
    {
      "cell_type": "code",
      "execution_count": null,
      "metadata": {},
      "outputs": [],
      "source": [
        "# Plot the scatter charts of the features against the target variable\n",
        "fig, axs = plt.subplots(2, 3, figsize=(20, 10))\n",
        "for i, feature in enumerate(x.columns):\n",
        "    axs[i // 3, i % 3].scatter(x[feature], y, c='blue', alpha=0.5)\n",
        "    axs[i // 3, i % 3].set_xlabel(feature)\n",
        "    axs[i // 3, i % 3].set_ylabel('Densidad')\n",
        "plt.tight_layout()\n",
        "plt.show()\n",
        "\n"
      ]
    },
    {
      "cell_type": "code",
      "execution_count": null,
      "metadata": {},
      "outputs": [],
      "source": [
        "# Plot the Pearson correlation matrix of the features (X) and the target variable (Y) with a heatmap\n",
        "corr = df.corr()\n",
        "plt.figure(figsize=(10, 8))\n",
        "sns.heatmap(corr, annot=True, cmap='coolwarm', fmt=\".2f\")\n",
        "plt.title('Matriz de Correlación de Pearson')\n",
        "plt.show()\n",
        "\n",
        "# Now plot the Pearson correlation matrix of the standardized features (X) and the target variable (Y) with a heatmap\n",
        "corr = x.join(y).corr()\n",
        "plt.figure(figsize=(10, 8))\n",
        "sns.heatmap(corr, annot=True, cmap='coolwarm', fmt=\".2f\")\n",
        "plt.title('Matriz de Correlación de Pearson (Estandarizada)')\n",
        "plt.show()\n",
        "\n",
        "\n"
      ]
    },
    {
      "cell_type": "code",
      "execution_count": null,
      "metadata": {},
      "outputs": [],
      "source": [
        "# Plot the Kendall correlation matrix of the features (X) and the target variable (Y) with a heatmap\n",
        "corr = df.corr(method='kendall')\n",
        "plt.figure(figsize=(10, 8))\n",
        "sns.heatmap(corr, annot=True, cmap='coolwarm', fmt=\".2f\")\n",
        "plt.title('Matriz de Correlación de Kendall')\n",
        "plt.show()\n",
        "\n",
        "# Now plot the Kendall correlation matrix of the standardized features (X) and the target variable (Y) with a heatmap\n",
        "corr = x.join(y).corr(method='kendall')\n",
        "plt.figure(figsize=(10, 8))\n",
        "sns.heatmap(corr, annot=True, cmap='coolwarm', fmt=\".2f\")\n",
        "plt.title('Matriz de Correlación de Kendall (Estandarizada)')\n",
        "plt.show()\n"
      ]
    },
    {
      "cell_type": "markdown",
      "metadata": {
        "id": "6HG8dZelKMsC"
      },
      "source": [
        "# Ejercicio 4\n",
        "\n",
        "## Datos\n",
        "\n",
        "**publicidad.csv**\n",
        "\n",
        "## Puntos\n",
        "\n",
        "1. Graficar el retorno de la inversión **Sales** vs **TV, Radio, Newspaper**.\n",
        "  - Usar scatter_matrix()\n",
        "  - Interpretar graficos de las variables 2 a 2.\n",
        "2. Calcular coeficiente de correlación.\n",
        "  - Graficar mapa de calor de las correlaciones.\n",
        "  - Interpretar las estructuras de dependencia encontradas.\n",
        "3. Escoger una de las 3 variables para modelar las ventas.\n",
        "  - Ajustar modelo de regresión lineal simple y encontrar la ecuación de la recta\n",
        "  - ¿Cuál es el valor del coeficiente de determinación ${𝑅}^2$.\n",
        "  - ¿Cómo se interpreta este valor?\n",
        "4. Realizar una predicción del retorno a la inversión al realizar 5 anuncios.\n",
        "  - ¿Cuál es el intervalo de confianza del 95% para la predicción?"
      ]
    }
  ],
  "metadata": {
    "colab": {
      "include_colab_link": true,
      "provenance": [],
      "toc_visible": true
    },
    "kernelspec": {
      "display_name": "Python 3",
      "name": "python3"
    },
    "language_info": {
      "codemirror_mode": {
        "name": "ipython",
        "version": 3
      },
      "file_extension": ".py",
      "mimetype": "text/x-python",
      "name": "python",
      "nbconvert_exporter": "python",
      "pygments_lexer": "ipython3",
      "version": "3.11.9"
    }
  },
  "nbformat": 4,
  "nbformat_minor": 0
}
